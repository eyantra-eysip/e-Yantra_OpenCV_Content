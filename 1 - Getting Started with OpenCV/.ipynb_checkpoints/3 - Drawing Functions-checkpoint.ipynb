{
 "cells": [
  {
   "cell_type": "code",
   "execution_count": 1,
   "id": "d48c963e-1ba0-43f3-b1a2-0a852e680c8b",
   "metadata": {},
   "outputs": [],
   "source": [
    "import numpy as np\n",
    "import cv2"
   ]
  },
  {
   "cell_type": "markdown",
   "id": "bbbf6104-c0fa-436f-b8e7-07d95ab168fc",
   "metadata": {},
   "source": [
    "## Create a blank canvas"
   ]
  },
  {
   "cell_type": "code",
   "execution_count": 2,
   "id": "1481fda7-d06e-446c-9c5d-f8a80d87dff4",
   "metadata": {},
   "outputs": [],
   "source": [
    "canvas = np.zeros((500,500,3), np.uint8)\n",
    "\n",
    "cv2.imshow(\"canvas\", canvas)\n",
    "cv2.waitKey(0)\n",
    "cv2.destroyAllWindows()"
   ]
  },
  {
   "cell_type": "markdown",
   "id": "b94c5ce1-d0bc-4f40-8e86-7f5524d10782",
   "metadata": {},
   "source": [
    "## Draw a line - *cv2.line()*"
   ]
  },
  {
   "cell_type": "code",
   "execution_count": 3,
   "id": "85c6fb75-c944-4073-b2a5-80efb9aeb2a5",
   "metadata": {},
   "outputs": [],
   "source": [
    "pt1 = (499, 0)\n",
    "pt2 = (0, 499)\n",
    "color = (0, 255, 255)\n",
    "thickness = 3\n",
    "\n",
    "canvas = cv2.line(canvas, pt1, pt2, color, thickness)\n",
    "\n",
    "cv2.imshow(\"canvas\", canvas)\n",
    "cv2.waitKey(0)\n",
    "cv2.destroyAllWindows()"
   ]
  },
  {
   "cell_type": "markdown",
   "id": "38ff3e5d-6eda-4f8c-b7cc-21e29ef67448",
   "metadata": {},
   "source": [
    "## Draw a rectangle - *cv2.rectangle()*"
   ]
  },
  {
   "cell_type": "code",
   "execution_count": 4,
   "id": "41c43ef3-3a56-4c79-8eeb-fe6cae904c64",
   "metadata": {},
   "outputs": [],
   "source": [
    "pt1 = (200, 200) ## top left corner\n",
    "pt2 = (300, 300) ## bottom right corner\n",
    "color = (0, 255, 0)\n",
    "thickness = 3\n",
    "\n",
    "canvas = cv2.rectangle(canvas, pt1, pt2, color, thickness)\n",
    "\n",
    "cv2.imshow(\"canvas\", canvas)\n",
    "cv2.waitKey(0)\n",
    "cv2.destroyAllWindows()"
   ]
  },
  {
   "cell_type": "markdown",
   "id": "b45fde56-e654-45bd-9f67-1791de1561d8",
   "metadata": {
    "tags": []
   },
   "source": [
    "## Draw a circle - *cv2.circle()*"
   ]
  },
  {
   "cell_type": "code",
   "execution_count": 5,
   "id": "a41f010f-60b4-4254-99e3-1c0cbe79c6ea",
   "metadata": {},
   "outputs": [],
   "source": [
    "pt = (250, 250) ## centre of circle\n",
    "radius = 70 ## radius of circle\n",
    "color = (255, 255, 0)\n",
    "thickness = 3\n",
    "\n",
    "canvas = cv2.circle(canvas, pt, radius, color, thickness)\n",
    "\n",
    "cv2.imshow(\"canvas\", canvas)\n",
    "cv2.waitKey(0)\n",
    "cv2.destroyAllWindows()"
   ]
  },
  {
   "cell_type": "markdown",
   "id": "a8c6c55e-919e-42d4-a651-8334d903430c",
   "metadata": {
    "tags": []
   },
   "source": [
    "## Creating something fun !!"
   ]
  },
  {
   "cell_type": "code",
   "execution_count": 6,
   "id": "6bf63a61-a37a-476f-bad0-a69f786f59db",
   "metadata": {},
   "outputs": [],
   "source": [
    "canvas = np.zeros((500,500,3), np.uint8)\n",
    "\n",
    "canvas = cv2.circle(canvas, (250, 250), 30, (0, 255, 0), 3)\n",
    "\n",
    "canvas = cv2.line(canvas, (198, 280), (250, 190), (0, 255, 0), thickness)\n",
    "canvas = cv2.line(canvas, (250, 190), (302, 280), (0, 255, 0), thickness)\n",
    "canvas = cv2.line(canvas, (302, 280), (198, 280), (0, 255, 0), thickness)\n",
    "\n",
    "canvas = cv2.line(canvas, (250, 190), (250, 280), (0, 255, 0), thickness)\n",
    "\n",
    "font = cv2.FONT_HERSHEY_SIMPLEX\n",
    "color = (255, 0, 0)\n",
    "fontScale = 1.0\n",
    "thickness = 2\n",
    "cv2.putText(canvas, 'The Deathly Hallows', (100, 400), font, fontScale, color, thickness, cv2.LINE_AA)\n",
    "\n",
    "cv2.imshow(\"canvas\", canvas)\n",
    "cv2.waitKey(0)\n",
    "cv2.destroyAllWindows()"
   ]
  },
  {
   "cell_type": "code",
   "execution_count": null,
   "id": "fba315b7-4bb8-41c2-9747-83b772890221",
   "metadata": {},
   "outputs": [],
   "source": []
  }
 ],
 "metadata": {
  "kernelspec": {
   "display_name": "opencv_session",
   "language": "python",
   "name": "opencv_session"
  },
  "language_info": {
   "codemirror_mode": {
    "name": "ipython",
    "version": 3
   },
   "file_extension": ".py",
   "mimetype": "text/x-python",
   "name": "python",
   "nbconvert_exporter": "python",
   "pygments_lexer": "ipython3",
   "version": "3.9.12"
  }
 },
 "nbformat": 4,
 "nbformat_minor": 5
}
