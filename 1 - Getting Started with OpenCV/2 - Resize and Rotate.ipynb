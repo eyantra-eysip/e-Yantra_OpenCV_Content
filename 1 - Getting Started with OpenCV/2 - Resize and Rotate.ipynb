{
 "cells": [
  {
   "cell_type": "code",
   "execution_count": 1,
   "id": "c8604a38-294c-4822-b455-2c0eeaebd794",
   "metadata": {},
   "outputs": [],
   "source": [
    "import numpy as np\n",
    "import cv2"
   ]
  },
  {
   "cell_type": "code",
   "execution_count": 2,
   "id": "810050de-28b3-46d0-af9e-e72389f0bca6",
   "metadata": {},
   "outputs": [
    {
     "name": "stdout",
     "output_type": "stream",
     "text": [
      "(2624, 1920, 3)\n"
     ]
    }
   ],
   "source": [
    "image = cv2.imread(\"onix.png\")\n",
    "print(image.shape)\n",
    "\n",
    "cv2.imshow(\"image\", image)\n",
    "cv2.waitKey(0)\n",
    "cv2.destroyAllWindows()"
   ]
  },
  {
   "cell_type": "markdown",
   "id": "e8636838-581b-49c2-9be6-1aeeffebb1a4",
   "metadata": {},
   "source": [
    "## Resizing an image - *cv2.resize()*\n",
    "\n",
    "### Resizing only width without preserving aspect ratio"
   ]
  },
  {
   "cell_type": "code",
   "execution_count": 3,
   "id": "6f65a008-7e40-4919-bc2e-d023bf06edcc",
   "metadata": {},
   "outputs": [],
   "source": [
    "height, width, _ = image.shape\n",
    "\n",
    "width = 500\n",
    "\n",
    "image = cv2.resize(image, (width, height), interpolation=cv2.INTER_LINEAR)\n",
    "cv2.imshow(\"image\", image)\n",
    "cv2.waitKey(0)\n",
    "cv2.destroyAllWindows()"
   ]
  },
  {
   "cell_type": "markdown",
   "id": "10fa6dea-839f-4b64-b255-7926d727df5a",
   "metadata": {},
   "source": [
    "### Resizing only height without preserving aspect ratio"
   ]
  },
  {
   "cell_type": "code",
   "execution_count": 4,
   "id": "ef6c17dc-20d1-44cd-9c86-ae02d92aaef1",
   "metadata": {},
   "outputs": [],
   "source": [
    "height = 500\n",
    "\n",
    "image = cv2.resize(image, (width, height), interpolation=cv2.INTER_LINEAR)\n",
    "cv2.imshow(\"image\", image)\n",
    "cv2.waitKey(0)\n",
    "cv2.destroyAllWindows()"
   ]
  },
  {
   "cell_type": "markdown",
   "id": "9f636ece-0596-4f2b-8ef3-524c149e4885",
   "metadata": {},
   "source": [
    "### Resizing while preserving aspect ratio"
   ]
  },
  {
   "cell_type": "code",
   "execution_count": 7,
   "id": "d369766a-c54b-4692-9b74-5cdc26191e28",
   "metadata": {},
   "outputs": [],
   "source": [
    "image = cv2.imread(\"onix.png\")\n",
    "\n",
    "scale_factor = 0.3\n",
    "height, width, _ = image.shape\n",
    "width = int(width*scale_factor)\n",
    "height = int(height*scale_factor)\n",
    "image = cv2.resize(image, (width, height), interpolation=cv2.INTER_LINEAR)\n",
    "cv2.imshow(\"image\", image)\n",
    "cv2.waitKey(0)\n",
    "cv2.destroyAllWindows()"
   ]
  },
  {
   "cell_type": "code",
   "execution_count": 8,
   "id": "9a72afc1-b5fd-4a11-b2bf-30407782e7c1",
   "metadata": {},
   "outputs": [],
   "source": [
    "image = cv2.imread(\"electrode.png\")\n",
    "\n",
    "cv2.imshow(\"image\", image)\n",
    "cv2.waitKey(0)\n",
    "cv2.destroyAllWindows()"
   ]
  },
  {
   "cell_type": "markdown",
   "id": "3eb705b0-3e27-4dd0-bacd-71f6a4dac561",
   "metadata": {},
   "source": [
    "## Rotating an image\n",
    "\n",
    "***cv2.getRotationMatrix2D*** - Defines a 2D rotation matrix. This takes centre of rotation, angle of rotation and scaling factor as input.\n",
    "\n",
    "[ cos(*theta*) -sin(*theta*) ]\n",
    "\n",
    "[ sin(*theta*) cos(*theta*) ]\n",
    "\n",
    "***cv2.warpAffine*** - Applies the affine transformation to the image, using the rotation matrix created\n",
    "\n"
   ]
  },
  {
   "cell_type": "code",
   "execution_count": 12,
   "id": "cc2cbdbd-513f-4e0e-b443-bc2c421beadf",
   "metadata": {},
   "outputs": [],
   "source": [
    "height, width, _ = image.shape\n",
    "\n",
    "angle_of_rotation = 45\n",
    "center_of_rotation = (100, 100)\n",
    "scale_factor = 1.0\n",
    "\n",
    "M = cv2.getRotationMatrix2D(center_of_rotation, angle_of_rotation, scale_factor)\n",
    "\n",
    "rotated = cv2.warpAffine(image, M, (width, height))\n",
    "cv2.imshow(\"Rotated\", rotated)\n",
    "cv2.waitKey(0)\n",
    "cv2.destroyAllWindows()"
   ]
  },
  {
   "cell_type": "code",
   "execution_count": null,
   "id": "c5725659-9158-49ed-82c0-4cd768fed42a",
   "metadata": {},
   "outputs": [],
   "source": []
  }
 ],
 "metadata": {
  "kernelspec": {
   "display_name": "opencv_session",
   "language": "python",
   "name": "opencv_session"
  },
  "language_info": {
   "codemirror_mode": {
    "name": "ipython",
    "version": 3
   },
   "file_extension": ".py",
   "mimetype": "text/x-python",
   "name": "python",
   "nbconvert_exporter": "python",
   "pygments_lexer": "ipython3",
   "version": "3.9.12"
  }
 },
 "nbformat": 4,
 "nbformat_minor": 5
}
