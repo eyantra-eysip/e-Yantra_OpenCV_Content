{
 "cells": [
  {
   "cell_type": "code",
   "execution_count": 1,
   "id": "88d27b20-e3e4-4bb4-908a-bd715b284120",
   "metadata": {},
   "outputs": [],
   "source": [
    "import numpy as np\n",
    "import cv2"
   ]
  },
  {
   "cell_type": "markdown",
   "id": "52b8a6f5-ae3e-486f-852d-d5cb4a3cbe94",
   "metadata": {
    "tags": []
   },
   "source": [
    "## Loading an Image - *cv2.imread()*"
   ]
  },
  {
   "cell_type": "code",
   "execution_count": 2,
   "id": "314d084a-a00a-41e6-ac2a-9a2472839929",
   "metadata": {},
   "outputs": [
    {
     "name": "stdout",
     "output_type": "stream",
     "text": [
      "<class 'numpy.ndarray'>\n",
      "[[[255 255 255]\n",
      "  [255 255 255]\n",
      "  [255 255 255]\n",
      "  ...\n",
      "  [255 255 255]\n",
      "  [255 255 255]\n",
      "  [255 255 255]]\n",
      "\n",
      " [[255 255 255]\n",
      "  [255 255 255]\n",
      "  [255 255 255]\n",
      "  ...\n",
      "  [255 255 255]\n",
      "  [255 255 255]\n",
      "  [255 255 255]]\n",
      "\n",
      " [[255 255 255]\n",
      "  [255 255 255]\n",
      "  [255 255 255]\n",
      "  ...\n",
      "  [255 255 255]\n",
      "  [255 255 255]\n",
      "  [255 255 255]]\n",
      "\n",
      " ...\n",
      "\n",
      " [[255 255 255]\n",
      "  [255 255 255]\n",
      "  [255 255 255]\n",
      "  ...\n",
      "  [255 255 255]\n",
      "  [255 255 255]\n",
      "  [255 255 255]]\n",
      "\n",
      " [[255 255 255]\n",
      "  [255 255 255]\n",
      "  [255 255 255]\n",
      "  ...\n",
      "  [255 255 255]\n",
      "  [255 255 255]\n",
      "  [255 255 255]]\n",
      "\n",
      " [[255 255 255]\n",
      "  [255 255 255]\n",
      "  [255 255 255]\n",
      "  ...\n",
      "  [255 255 255]\n",
      "  [255 255 255]\n",
      "  [255 255 255]]]\n"
     ]
    }
   ],
   "source": [
    "image = cv2.imread(\"opencv_logo.png\")\n",
    "print(type(image))\n",
    "print(image)"
   ]
  },
  {
   "cell_type": "markdown",
   "id": "43e7a263-93fa-41f7-912b-86f9c7369dd0",
   "metadata": {
    "tags": []
   },
   "source": [
    "## Displaying an Image - *cv2.imshow()*"
   ]
  },
  {
   "cell_type": "code",
   "execution_count": 3,
   "id": "25a2f338-118d-4ff0-b7e0-0537baed49d1",
   "metadata": {},
   "outputs": [],
   "source": [
    "cv2.imshow(\"image\", image)\n",
    "cv2.waitKey(2000)\n",
    "cv2.destroyAllWindows()"
   ]
  },
  {
   "cell_type": "markdown",
   "id": "a5aa749e-0bbc-4c6e-9847-1bbd73b7475c",
   "metadata": {
    "tags": []
   },
   "source": [
    "## Checking dimensions of an Image - *np.shape*"
   ]
  },
  {
   "cell_type": "code",
   "execution_count": 4,
   "id": "9eea71c4-a3e4-4426-9224-fff38172cdbe",
   "metadata": {},
   "outputs": [
    {
     "name": "stdout",
     "output_type": "stream",
     "text": [
      "\n",
      " Image Dimensions: (243, 207, 3)\n"
     ]
    }
   ],
   "source": [
    "dimensions = image.shape\n",
    "print(\"\\n Image Dimensions:\", dimensions)"
   ]
  },
  {
   "cell_type": "markdown",
   "id": "02ab0224-3399-477c-b767-5b6a9d671969",
   "metadata": {
    "tags": []
   },
   "source": [
    "## Loading an Image in grayscale"
   ]
  },
  {
   "cell_type": "code",
   "execution_count": 5,
   "id": "f155122c-1abe-49ef-bda2-ed5c04940d28",
   "metadata": {},
   "outputs": [
    {
     "name": "stdout",
     "output_type": "stream",
     "text": [
      "\n",
      " Image Dimensions: (243, 207)\n"
     ]
    }
   ],
   "source": [
    "image_gray = cv2.imread(\"opencv_logo.png\", 0)\n",
    "dimensions = image_gray.shape\n",
    "print(\"\\n Image Dimensions:\", dimensions)\n",
    "cv2.imshow(\"image_gray\", image_gray)\n",
    "cv2.waitKey(0)\n",
    "cv2.destroyAllWindows()"
   ]
  },
  {
   "cell_type": "markdown",
   "id": "ee4bb8e3-f1a8-4b04-9cac-540eb1eca068",
   "metadata": {
    "tags": []
   },
   "source": [
    "## Saving an Image - *cv2.imwrite()*"
   ]
  },
  {
   "cell_type": "code",
   "execution_count": 6,
   "id": "b84bef1f-3964-436d-aaaf-f01eefb673fb",
   "metadata": {},
   "outputs": [
    {
     "data": {
      "text/plain": [
       "True"
      ]
     },
     "execution_count": 6,
     "metadata": {},
     "output_type": "execute_result"
    }
   ],
   "source": [
    "cv2.imwrite(\"opencv_logo_gray.png\", image_gray)"
   ]
  },
  {
   "cell_type": "markdown",
   "id": "8c11470e-4b67-4442-84a2-491c1c4e547b",
   "metadata": {
    "tags": []
   },
   "source": [
    "## Accessing individual pixels"
   ]
  },
  {
   "cell_type": "code",
   "execution_count": 7,
   "id": "73a24ed8-fd85-41ba-b9e3-ee9990bfc700",
   "metadata": {},
   "outputs": [
    {
     "name": "stdout",
     "output_type": "stream",
     "text": [
      "Pixel Color: 29\n",
      "Pixel Color: [255   1   1]\n"
     ]
    }
   ],
   "source": [
    "pixel_gray = image_gray[120, 120]\n",
    "print(\"Pixel Color:\", pixel_gray)\n",
    "pixel_rgb = image[120, 120, :]\n",
    "print(\"Pixel Color:\", pixel_rgb)"
   ]
  },
  {
   "cell_type": "code",
   "execution_count": 8,
   "id": "8c3dc47b-78ce-42fe-99eb-44fe27c7dbdd",
   "metadata": {},
   "outputs": [],
   "source": [
    "image[120, 120, : ] = [255, 255, 255]\n",
    "cv2.imshow(\"image\", image)\n",
    "cv2.waitKey(0)\n",
    "cv2.destroyAllWindows()"
   ]
  },
  {
   "cell_type": "markdown",
   "id": "78d8c412-5e8d-44a7-90dc-53ce4d08b8cf",
   "metadata": {
    "tags": []
   },
   "source": [
    "## Accessing region of interest (ROI)"
   ]
  },
  {
   "cell_type": "code",
   "execution_count": 13,
   "id": "d23c35b4-a3f8-4dbf-b9a9-51088e3b5c5c",
   "metadata": {},
   "outputs": [],
   "source": [
    "image[0:25, 0:25, :] = [0, 0, 0]\n",
    "cv2.imshow(\"image\", image)\n",
    "cv2.waitKey(0)\n",
    "cv2.destroyAllWindows()"
   ]
  },
  {
   "cell_type": "markdown",
   "id": "06755f82-2217-499d-9309-ced93180154d",
   "metadata": {
    "tags": []
   },
   "source": [
    "## Cropping an Image using Array slicing"
   ]
  },
  {
   "cell_type": "code",
   "execution_count": 14,
   "id": "a0be3ce8-242e-42f0-8b68-490ac89ddb2f",
   "metadata": {},
   "outputs": [],
   "source": [
    "image_cropped = image[0:205, 0:205, :]\n",
    "cv2.imshow(\"cropped\", image_cropped)\n",
    "cv2.waitKey(0)\n",
    "cv2.destroyAllWindows()"
   ]
  },
  {
   "cell_type": "markdown",
   "id": "db061c08-9d68-401d-8603-c3f1cf8920d0",
   "metadata": {
    "tags": []
   },
   "source": [
    "## Checking out Individual Channels of an RGB Image"
   ]
  },
  {
   "cell_type": "code",
   "execution_count": 15,
   "id": "3c98d2b6-bc2b-43f7-b528-fd19c768569e",
   "metadata": {},
   "outputs": [],
   "source": [
    "image_b_channel = image[:, :, 0]\n",
    "image_g_channel = image[:, :, 1]\n",
    "image_r_channel = image[:, :, 2]\n",
    "\n",
    "cv2.imshow(\"image_b_channel\", image_b_channel)\n",
    "cv2.imshow(\"image_g_channel\", image_g_channel)\n",
    "cv2.imshow(\"image_r_channel\", image_r_channel)\n",
    "cv2.waitKey(0)\n",
    "cv2.destroyAllWindows()"
   ]
  },
  {
   "cell_type": "code",
   "execution_count": null,
   "id": "7a8f0002-3148-458e-88e2-91b216af0fe0",
   "metadata": {},
   "outputs": [],
   "source": []
  },
  {
   "cell_type": "code",
   "execution_count": null,
   "id": "177377d2-4ce8-443f-b94c-bcda390e5017",
   "metadata": {},
   "outputs": [],
   "source": []
  }
 ],
 "metadata": {
  "kernelspec": {
   "display_name": "opencv_session",
   "language": "python",
   "name": "opencv_session"
  },
  "language_info": {
   "codemirror_mode": {
    "name": "ipython",
    "version": 3
   },
   "file_extension": ".py",
   "mimetype": "text/x-python",
   "name": "python",
   "nbconvert_exporter": "python",
   "pygments_lexer": "ipython3",
   "version": "3.9.12"
  }
 },
 "nbformat": 4,
 "nbformat_minor": 5
}
